{
  "cells": [
    {
      "cell_type": "markdown",
      "metadata": {
        "id": "1pCTdOHonv5f"
      },
      "source": [
        "# Módulo 2\n",
        "\n",
        "## 2.3 Instruções e Expressões\n",
        "\n",
        "### Q1\n",
        "\n",
        "Faça um programa que armazene o valor de 20 reais de salário por hora de um trabalhador, e o número de 40 horas trabalhadas na semana. Com essas informações, calcule e imprima:\n",
        "- Salário semanal bruto\n",
        "- Valor descontado por semana INSS (10% do bruto)\n",
        "- Valor descontado por semana pelo sindicato (5% do bruto)\n",
        "- Salário semanal líquido (Bruto - Descontos)"
      ]
    },
    {
      "cell_type": "code",
      "execution_count": 4,
      "metadata": {
        "id": "hVbX0I97nj6M"
      },
      "outputs": [
        {
          "name": "stdout",
          "output_type": "stream",
          "text": [
            "Salário Semanal Bruto: R$ 800\n",
            "INSS: R$ 80.0\n",
            "Sindicato: R$ 40.0\n",
            "Salário Semanal Líquido: R$ 680.0\n"
          ]
        }
      ],
      "source": [
        "## Escreva e execute seu código aqui\n",
        "salario_hora = 20\n",
        "horas_trabalhadas = 40\n",
        "\n",
        "salario_semanal_bruto = salario_hora * horas_trabalhadas\n",
        "inss = salario_semanal_bruto * 0.10\n",
        "sindicato = salario_semanal_bruto * 0.05\n",
        "salario_semanal_liquido = salario_semanal_bruto - (inss + sindicato)\n",
        "\n",
        "print(\"Salário Semanal Bruto: R$\", salario_semanal_bruto)\n",
        "print(\"INSS: R$\",inss)\n",
        "print(\"Sindicato: R$\",sindicato)\n",
        "print(\"Salário Semanal Líquido: R$\",salario_semanal_liquido)"
      ]
    },
    {
      "cell_type": "markdown",
      "metadata": {
        "id": "pIxKX9J2oGZ1"
      },
      "source": [
        "### Q2\n",
        "\n",
        "Altere o programa anterior para a partir dos valores de horas trabalhadas por semana e salário por hora, calcular **em somente duas instruções**:\n",
        "- Salário semanal bruto\n",
        "- Salário semanal líquido com todos os descontos. Para a segunda instrução, realize todos os cálculos aritméticos em uma expressão composta.\n"
      ]
    },
    {
      "cell_type": "code",
      "execution_count": 5,
      "metadata": {
        "id": "pAHw9Xf9oGoi"
      },
      "outputs": [
        {
          "name": "stdout",
          "output_type": "stream",
          "text": [
            "Salário Semanal Bruto: R$ 800\n",
            "Salário Semanal Líquido: R$ 680.0\n"
          ]
        }
      ],
      "source": [
        "## Escreva e execute seu código aqui\n",
        "salario_hora = 20\n",
        "horas_trabalhadas = 40\n",
        "\n",
        "salario_semanal_bruto = salario_hora * horas_trabalhadas\n",
        "salario_semanal_liquido = salario_semanal_bruto * (1 - 0.10 - 0.05)\n",
        "\n",
        "print(\"Salário Semanal Bruto: R$\", salario_semanal_bruto)\n",
        "print(\"Salário Semanal Líquido: R$\", salario_semanal_liquido)"
      ]
    },
    {
      "cell_type": "markdown",
      "metadata": {
        "id": "m8tlHRuWpBOB"
      },
      "source": [
        "### Q3\n",
        "\n",
        "Você está desenvolvendo um software de conversão de moeda e precisa calcular o valor equivalente em yuan chinês a partir de uma quantia em real. A taxa de câmbio é de 0.69 BRL (real) para 1 CNY (yuan). Escreva um programa que define em uma variável uma quantia em reais (BRL) e calcula o valor equivalente em yuan (CNY). Imprima o resultado."
      ]
    },
    {
      "cell_type": "code",
      "execution_count": 9,
      "metadata": {
        "id": "2bPw7uF6oeL9"
      },
      "outputs": [
        {
          "name": "stdout",
          "output_type": "stream",
          "text": [
            "R$ 200 é 289.86 em Yuan\n"
          ]
        }
      ],
      "source": [
        "## Escreva e execute seu código aqui\n",
        "taxa = 0.69\n",
        "quantia_reais = 200 # Exemplo de valor !!\n",
        "\n",
        "valor_equivalente_yuan = quantia_reais / taxa\n",
        "\n",
        "print(\"R$\" , quantia_reais, f\"é {valor_equivalente_yuan:.2f} em Yuan\")"
      ]
    },
    {
      "cell_type": "markdown",
      "metadata": {
        "id": "-Na3ltDCp74A"
      },
      "source": [
        "### Q4\n",
        "\n",
        "Você é um treinador de corrida e deseja calcular a velocidade média que um atleta precisa manter para completar a Maratona Internacional de São Silvestre, que tem uma distância total de 42.195 km. A fórmula para calcular a velocidade média ($v\\_media$) é dada por $v\\_media = \\frac{distancia}{tempo}$ . Escreva um programa em Python para calcular a velocidade média necessária para completar a maratona em 3 horas.\n",
        "\n",
        "**Calcule e imprima o resultado em metros/segundo**, ou seja, converta a distância de quilômetros para metros ($metro = \\frac{km}{1000}$) e a velocidade de horas para segundos $(segundo = \\frac{hora}{3600})$."
      ]
    },
    {
      "cell_type": "code",
      "execution_count": 12,
      "metadata": {
        "id": "Bn6l8kcSrE4L"
      },
      "outputs": [
        {
          "name": "stdout",
          "output_type": "stream",
          "text": [
            "Resultado de metros por segundos é de: 3.91 m/s.\n"
          ]
        }
      ],
      "source": [
        "## Escreva e execute seu código aqui\n",
        "distancia_em_km = 42.195\n",
        "tempo_em_hrs = 3\n",
        "\n",
        "distancia_em_mts = distancia_em_km * 1000\n",
        "tempo_em_seg = tempo_em_hrs * 3600\n",
        "media_velocidade = distancia_em_mts / tempo_em_seg\n",
        "\n",
        "print(\"Resultado de metros por segundos é de:\", f\"{media_velocidade:.2f} m/s.\")"
      ]
    }
  ],
  "metadata": {
    "colab": {
      "provenance": []
    },
    "kernelspec": {
      "display_name": "Python 3",
      "name": "python3"
    },
    "language_info": {
      "codemirror_mode": {
        "name": "ipython",
        "version": 3
      },
      "file_extension": ".py",
      "mimetype": "text/x-python",
      "name": "python",
      "nbconvert_exporter": "python",
      "pygments_lexer": "ipython3",
      "version": "3.12.6"
    }
  },
  "nbformat": 4,
  "nbformat_minor": 0
}
