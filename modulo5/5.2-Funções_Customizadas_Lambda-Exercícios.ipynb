{
 "cells": [
  {
   "cell_type": "markdown",
   "id": "cbdff5a5",
   "metadata": {},
   "source": [
    "# Módulo 5 - Funções\n",
    "\n",
    "## Aulas 5.2 - Funções Customizadas e 5.4 Funções ```lambda```"
   ]
  },
  {
   "cell_type": "markdown",
   "id": "28a3fee2",
   "metadata": {},
   "source": [
    "### Q1.\n",
    "\n",
    "- Sabendo que o código a seguir calcula o fatorial de n, escreva uma função chamada ```fatorial()``` que recebe um inteiro ```n``` como parâmetro e retorna o resultado do fatorial de ```n```. \n",
    "- No programa principal, peça ao usuário o valor de ```n```, chame a sua função e imprima o retorno.\n",
    "\n",
    "```python\n",
    "fat = 1\n",
    "for i in range(1, n+1):\n",
    "    fat *= i \n",
    "```"
   ]
  },
  {
   "cell_type": "code",
   "execution_count": 5,
   "id": "d126b3a5",
   "metadata": {},
   "outputs": [],
   "source": [
    "## Crie aqui a função fatorial()\n",
    "## lembre-se de executar a célula para que a função passe a existir e possa ser chamada\n",
    "def fatorial(numero):\n",
    "    fat = 1\n",
    "    for i in range(1, numero + 1):\n",
    "        fat *= i\n",
    "    return fat"
   ]
  },
  {
   "cell_type": "code",
   "execution_count": 7,
   "id": "6e4fe64e",
   "metadata": {},
   "outputs": [
    {
     "name": "stdout",
     "output_type": "stream",
     "text": [
      "O fatorial de 15 é 1307674368000\n"
     ]
    }
   ],
   "source": [
    "## Escreva aqui o programa principal e execute a célula\n",
    "numero = int(input(\"Digite um número inteiro para calcular o fatorial: \"))\n",
    "\n",
    "resultado_final = fatorial(numero)\n",
    "print(f\"O fatorial de {numero} é {resultado_final}\")"
   ]
  },
  {
   "cell_type": "markdown",
   "id": "c0a1f599",
   "metadata": {},
   "source": [
    "### Q2.\n",
    "\n",
    "- Escreva uma função em Python chamada ```soma_quadrados``` que recebe dois números como parâmetros e retorna a soma dos seus quadrados. \n",
    "- No programa principal solicite ao usuário que insira dois números e utilize a função para exibir a soma dos quadrados."
   ]
  },
  {
   "cell_type": "code",
   "execution_count": 8,
   "id": "6dbddaad",
   "metadata": {},
   "outputs": [],
   "source": [
    "## Crie aqui a função soma_quadrados()\n",
    "def soma_quadrados(n1 , n2):\n",
    "    return n1**2 + n2**2"
   ]
  },
  {
   "cell_type": "code",
   "execution_count": 9,
   "id": "9175a7da",
   "metadata": {},
   "outputs": [
    {
     "name": "stdout",
     "output_type": "stream",
     "text": [
      "A soma dos quadrados de 5.0 e 21.0 é 466.0\n"
     ]
    }
   ],
   "source": [
    "## Escreva aqui o programa principal e execute a célula\n",
    "numero1 = float(input(\"Digite o primeiro número: \"))\n",
    "numero2 = float(input(\"Digite o segundo número: \"))\n",
    "\n",
    "resultado_quadrado = soma_quadrados(numero1, numero2)\n",
    "print(f\"A soma dos quadrados de {numero1} e {numero2} é {resultado_quadrado}\")"
   ]
  },
  {
   "cell_type": "markdown",
   "id": "6ba34ce0",
   "metadata": {},
   "source": [
    "### Q3.\n",
    "\n",
    "- Crie uma função em Python chamada ```soma_digitos``` que recebe um número inteiro como parâmetro e retorna a soma dos seus dígitos. Por exemplo, para o número 123, a função deve retornar 6, $(1 + 2 + 3)$.\n",
    "    - O desafio aqui é separar os dígitos de um número inteiro usando operações aritméticas <br> <br>\n",
    "\n",
    "- No programa principal solicite ao usuário que insira um número e utilize a função ```soma_digitos``` para calcular e exibir a soma dos seus dígitos."
   ]
  },
  {
   "cell_type": "code",
   "execution_count": 10,
   "id": "34838ebf",
   "metadata": {},
   "outputs": [],
   "source": [
    "## Crie aqui a função soma_digitos()\n",
    "def soma_digitos(numero_digito):\n",
    "    soma = 0\n",
    "    numero_digito = abs(numero_digito)\n",
    "    while numero_digito > 0:\n",
    "        soma += numero_digito % 10\n",
    "        numero_digito //= 10\n",
    "    return soma"
   ]
  },
  {
   "cell_type": "code",
   "execution_count": 12,
   "id": "27c35b21",
   "metadata": {},
   "outputs": [
    {
     "name": "stdout",
     "output_type": "stream",
     "text": [
      "A soma dos dígitos de 123 é 6\n"
     ]
    }
   ],
   "source": [
    "## Escreva aqui o programa principal e execute a célula\n",
    "numero_inteiro = int(input(\"Digite um número inteiro: \"))\n",
    "\n",
    "resultado_digitos = soma_digitos(numero_inteiro)\n",
    "print(f\"A soma dos dígitos de {numero_inteiro} é {resultado_digitos}\")"
   ]
  },
  {
   "cell_type": "markdown",
   "id": "c318b159",
   "metadata": {},
   "source": [
    "### Q4.\n",
    "\n",
    "- Crie a função ```inverteValor()``` que recebe um inteiro de qualquer tamanho e retorna esse valor invertido usando apenas operações aritméticas\n",
    "- Crie a função ```verificaInverso()``` que recebe o valor original e o valor invertido e retorna verdadeiro se ambos forem igualmente par ou igualmente ímpar. Retorne falso caso contrário.\n",
    "- No programa principal, peça um valor do usuário e imprima o retorno de ambas as funções.\n"
   ]
  },
  {
   "cell_type": "code",
   "execution_count": 13,
   "id": "e4e47d1d",
   "metadata": {},
   "outputs": [],
   "source": [
    "## Crie aqui as funções inverteValor() e verificaInverso()\n",
    "def inverteValor(numero_invertido):\n",
    "    invertido = 0\n",
    "    numero_invertido = abs(numero_invertido)\n",
    "\n",
    "    while numero_invertido > 0 :\n",
    "        ultimo_digito = numero_invertido % 10\n",
    "        invertido = invertido * 10 + ultimo_digito\n",
    "        numero_invertido //= 10\n",
    "    return invertido\n",
    "\n",
    "def verificaInverso(num_original, invertido):\n",
    "    return (num_original % 2) == (invertido % 2)"
   ]
  },
  {
   "cell_type": "code",
   "execution_count": 17,
   "id": "a9514e56",
   "metadata": {},
   "outputs": [
    {
     "name": "stdout",
     "output_type": "stream",
     "text": [
      "O valor invertido de 13 é 31.\n",
      "Ambos são igualmente par ou igualmente ímpar? True\n"
     ]
    }
   ],
   "source": [
    "## Escreva aqui o programa principal e execute a célula\n",
    "valor_inicial = int(input(\"Digite um número inteiro: \"))\n",
    "valor_invertido = inverteValor(valor_inicial)\n",
    "resultado_verificado = verificaInverso(valor_inicial, valor_invertido)\n",
    "\n",
    "print(f\"O valor invertido de {valor_inicial} é {valor_invertido}.\")\n",
    "print(f\"Ambos são igualmente par ou igualmente ímpar? {resultado_verificado}\")"
   ]
  },
  {
   "cell_type": "markdown",
   "id": "329be966",
   "metadata": {},
   "source": [
    "### Q5.\n",
    "\n",
    "Você está desenvolvendo um programa para auxiliar em cálculos de geometria básica. Crie as seguintes funções:\n",
    "- A função ```calcula_perimetro_triangulo()``` que recebe três inteiros correspondentes aos lados de um triângulo e retorna o perímetro do triângulo, ou seja, a soma dos seus lados.\n",
    "- A função ```calcula_perimetro_circulo()``` que recebe um inteiro referente ao raio do círculo e retorna o perímetro do círculo, dado por $2 \\pi r$. Use a constante $\\pi$ da biblioteca ```math```.\n",
    "- A função ```calcula_perimetro_retangulo()``` que possui um parâmetro obrigatório ```lado1``` e um opcional ```lado2```, ambos inteiros. Se o valor opcional não for fornecido, significa que se trata de um quadrado. Sua função deve calcular e retornar o perímetro do retângulo, ou seja, a soma de seus lados. \n",
    "    - Para o quadrado, é dado por $4 \\times lado1$\n",
    "    - Para o retângulo é dado por $2 \\times lado1 + 2 \\times lado2$\n",
    "    \n",
    "- No programa principal apresente um menu com as opções disponíveis do seu sistema e uma quarta opção ```Sair```. Solicite ao usuário a opção desejada, solicite as entradas correspondentes à opção escolhida, invoque a respective função e apresente o seu retorno. Seu programa deve retornar ao menu até que o usuário escolha a opção ```Sair```\n",
    "\n",
    "Exemplo de interação:\n",
    "```\n",
    "1 - Calcular perímetro triângulo\n",
    "2 - Calcular perímetro círculo\n",
    "3 - Calcular perímetro retângulo\n",
    "4 - Sair\n",
    "\n",
    "Opção: 1\n",
    "Digite os três lados do triângulo:\n",
    "3\n",
    "4\n",
    "5\n",
    "O perímetro é: 12\n",
    "\n",
    "1 - Calcular perímetro triângulo\n",
    "2 - Calcular perímetro círculo\n",
    "3 - Calcular perímetro retângulo\n",
    "4 - Sair\n",
    "\n",
    "Opção: 3\n",
    "Informe os dois lados do retângulo. Se for um quadrado, digite 0 para o segundo valor:\n",
    "5\n",
    "0\n",
    "O perímetro é: 20\n",
    "\n",
    "1 - Calcular perímetro triângulo\n",
    "2 - Calcular perímetro círculo\n",
    "3 - Calcular perímetro retângulo\n",
    "4 - Sair\n",
    "\n",
    "Opção: 4\n",
    "```"
   ]
  },
  {
   "cell_type": "code",
   "execution_count": 18,
   "id": "0793d328",
   "metadata": {},
   "outputs": [],
   "source": [
    "## Crie aqui as funções \n",
    "import math\n",
    "\n",
    "def calcula_perimetro_triangulo(lado1, lado2, lado3):\n",
    "    return lado1 + lado2 + lado3\n",
    "\n",
    "def calcula_perimetro_circulo(raio):\n",
    "    return 2 * math.pi * raio\n",
    "\n",
    "def calcula_perimetro_retangulo(lado1, lado2=0):\n",
    "    if lado2 == 0:\n",
    "        return 4 * lado1\n",
    "    return 2 * lado1 + 2 * lado2"
   ]
  },
  {
   "cell_type": "code",
   "execution_count": 19,
   "id": "36269c71",
   "metadata": {},
   "outputs": [
    {
     "name": "stdout",
     "output_type": "stream",
     "text": [
      "\n",
      "1 - Calcular perímetro triângulo\n",
      "2 - Calcular perímetro círculo\n",
      "3 - Calcular perímetro retângulo\n",
      "4 - Sair\n",
      "O perímetro é: 12\n",
      "\n",
      "1 - Calcular perímetro triângulo\n",
      "2 - Calcular perímetro círculo\n",
      "3 - Calcular perímetro retângulo\n",
      "4 - Sair\n",
      "O perímetro é: 20\n",
      "\n",
      "1 - Calcular perímetro triângulo\n",
      "2 - Calcular perímetro círculo\n",
      "3 - Calcular perímetro retângulo\n",
      "4 - Sair\n",
      "Opção inválida. Tente novamente.\n",
      "\n",
      "1 - Calcular perímetro triângulo\n",
      "2 - Calcular perímetro círculo\n",
      "3 - Calcular perímetro retângulo\n",
      "4 - Sair\n",
      "Saindo do programa.\n"
     ]
    }
   ],
   "source": [
    "## Escreva aqui o programa principal \n",
    "while True:\n",
    "    print(\"\\n1 - Calcular perímetro triângulo\")\n",
    "    print(\"2 - Calcular perímetro círculo\")\n",
    "    print(\"3 - Calcular perímetro retângulo\")\n",
    "    print(\"4 - Sair\")\n",
    "\n",
    "    escolha_opçao = int(input(\"Opção: \"))\n",
    "\n",
    "    if escolha_opçao == 1:\n",
    "        lado1 = int(input(\"Digite o primeiro lado do triângulo: \"))\n",
    "        lado2 = int(input(\"Digite o segundo lado do triângulo: \"))\n",
    "        lado3 = int(input(\"Digite o terceiro lado do triângulo: \"))\n",
    "        perimetro = calcula_perimetro_triangulo(lado1, lado2, lado3)\n",
    "        print(f\"O perímetro é: {perimetro}\")\n",
    "    elif escolha_opçao == 2:\n",
    "        raio = int(input(\"Digite o raio do círculo: \"))\n",
    "        perimetro = calcula_perimetro_circulo(raio)\n",
    "        print(f\"O perímetro é: {perimetro:.2f}\")\n",
    "    elif escolha_opçao == 3:\n",
    "        lado1 = int(input(\"Informe o primeiro lado do retângulo: \"))\n",
    "        lado2 = int(input(\"Informe o segundo lado do retângulo (0 para quadrado): \"))\n",
    "        perimetro = calcula_perimetro_retangulo(lado1, lado2)\n",
    "        print(f\"O perímetro é: {perimetro}\")\n",
    "    elif escolha_opçao == 4:\n",
    "        print(\"Saindo do programa.\")\n",
    "        break\n",
    "    else:\n",
    "        print(\"Opção inválida. Tente novamente.\")"
   ]
  },
  {
   "cell_type": "markdown",
   "id": "3016bcc7",
   "metadata": {},
   "source": [
    "## Funções ```lambda```"
   ]
  },
  {
   "cell_type": "markdown",
   "id": "f9cdb8dd",
   "metadata": {},
   "source": [
    "### Q6.\n",
    "\n",
    "Crie uma função lambda para verificar se um número é par ou ímpar. Em seguida, solicite ao usuário um número indefinidos de valores (até que o usuário digite 0). Para cada valor de entrada, informe se é par ou ímpar.\n",
    "\n",
    "Exemplo de interação:\n",
    "```\n",
    "Digite os valores que deseja verificar a paridade (digite 0 para finalizar a entrada de dados):\n",
    "3\n",
    "ímpar\n",
    "8\n",
    "par\n",
    "12\n",
    "par\n",
    "5\n",
    "ímpar\n",
    "7ímpar\n",
    "```"
   ]
  },
  {
   "cell_type": "code",
   "execution_count": 21,
   "id": "e3c31a78",
   "metadata": {},
   "outputs": [
    {
     "name": "stdout",
     "output_type": "stream",
     "text": [
      "Digite os valores que deseja verificar a paridade (digite 0 para finalizar a entrada de dados):\n",
      "ímpar\n",
      "par\n",
      "par\n",
      "ímpar\n",
      "ímpar\n"
     ]
    }
   ],
   "source": [
    "## Escreva aqui o programa principal \n",
    "par_impar = lambda x: \"par\" if x % 2 == 0 else \"ímpar\"\n",
    "\n",
    "print(\"Digite os valores que deseja verificar a paridade (digite 0 para finalizar a entrada de dados):\")\n",
    "\n",
    "while True:\n",
    "    valor_par_impar = int(input())\n",
    "    if valor_par_impar == 0:\n",
    "        break\n",
    "    resultado_par_impar = par_impar(valor_par_impar)\n",
    "    print(resultado_par_impar)"
   ]
  },
  {
   "cell_type": "markdown",
   "id": "5a87474d",
   "metadata": {},
   "source": [
    "### Q7.\n",
    "\n",
    "Escreva um programa que pergunte ao usuário qual operação ele deseja: maior ou menor.\n",
    "Em seguida leia uma quantidade indefinida de valores do usuário, até que o usuário digite o valor zero.\n",
    "Apresente ao final o maior ou menor dos valores digitados de acordo com a escolha do usuário.\n",
    "\n",
    "**Sua solução deve incluir pelo menos uma função ```lambda```** \n",
    "\n",
    "Exemplo de interação:\n",
    "```\n",
    "Opções: (1) maior ou (2) menor?\n",
    "Opção: 1\n",
    "\n",
    "Digite os valores de entrada. Digite 0 para finalizar a entrada de valores.\n",
    "4\n",
    "12\n",
    "15\n",
    "1\n",
    "0\n",
    "\n",
    "O maior valor é: 15\n",
    "```"
   ]
  },
  {
   "cell_type": "code",
   "execution_count": 24,
   "id": "ee3f68ca",
   "metadata": {},
   "outputs": [
    {
     "name": "stdout",
     "output_type": "stream",
     "text": [
      "Digite os valores de entrada. Digite 0 para finalizar a entrada de valores.\n",
      "O maior valor é: 15\n"
     ]
    }
   ],
   "source": [
    "## Escreva aqui o programa principal \n",
    "encontrar_maior = lambda valores: max(valores)\n",
    "encontrar_menor = lambda valores: min(valores)\n",
    "\n",
    "opcao_operador = int(input(\"Opções: (1) maior ou (2) menor?\\nOpção: \"))\n",
    "\n",
    "valores = []\n",
    "print(\"Digite os valores de entrada. Digite 0 para finalizar a entrada de valores.\")\n",
    "\n",
    "while True:\n",
    "    valor_entrada = int(input())\n",
    "    if valor_entrada == 0:\n",
    "        break\n",
    "    valores.append(valor_entrada)\n",
    "\n",
    "if opcao_operador == 1:\n",
    "    resultado = encontrar_maior(valores)\n",
    "    print(f\"O maior valor é: {resultado}\")\n",
    "elif opcao_operador == 2:\n",
    "    resultado = encontrar_menor(valores)\n",
    "    print(f\"O menor valor é: {resultado}\")\n",
    "else:\n",
    "    print(\"Opção inválida.\")"
   ]
  }
 ],
 "metadata": {
  "kernelspec": {
   "display_name": "Python 3 (ipykernel)",
   "language": "python",
   "name": "python3"
  },
  "language_info": {
   "codemirror_mode": {
    "name": "ipython",
    "version": 3
   },
   "file_extension": ".py",
   "mimetype": "text/x-python",
   "name": "python",
   "nbconvert_exporter": "python",
   "pygments_lexer": "ipython3",
   "version": "3.12.6"
  }
 },
 "nbformat": 4,
 "nbformat_minor": 5
}
